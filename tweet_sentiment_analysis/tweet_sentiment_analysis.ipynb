{
 "cells": [
  {
   "cell_type": "code",
   "execution_count": 1,
   "id": "bf37f170",
   "metadata": {},
   "outputs": [],
   "source": [
    "import pandas as pd\n",
    "import numpy as np\n",
    "import matplotlib.pyplot as plt\n",
    "import seaborn as sns\n",
    "import re\n",
    "df = pd.read_csv(r\"C:\\Users\\Zribi Ahmed\\Desktop\\projectML\\train.csv\")\n",
    "pd.set_option('display.max_colwidth', None)"
   ]
  },
  {
   "cell_type": "code",
   "execution_count": 2,
   "id": "75d35231",
   "metadata": {
    "scrolled": true
   },
   "outputs": [
    {
     "data": {
      "text/html": [
       "<div>\n",
       "<style scoped>\n",
       "    .dataframe tbody tr th:only-of-type {\n",
       "        vertical-align: middle;\n",
       "    }\n",
       "\n",
       "    .dataframe tbody tr th {\n",
       "        vertical-align: top;\n",
       "    }\n",
       "\n",
       "    .dataframe thead th {\n",
       "        text-align: right;\n",
       "    }\n",
       "</style>\n",
       "<table border=\"1\" class=\"dataframe\">\n",
       "  <thead>\n",
       "    <tr style=\"text-align: right;\">\n",
       "      <th></th>\n",
       "      <th>textID</th>\n",
       "      <th>text</th>\n",
       "      <th>selected_text</th>\n",
       "      <th>sentiment</th>\n",
       "    </tr>\n",
       "  </thead>\n",
       "  <tbody>\n",
       "    <tr>\n",
       "      <th>0</th>\n",
       "      <td>cb774db0d1</td>\n",
       "      <td>I`d have responded, if I were going</td>\n",
       "      <td>I`d have responded, if I were going</td>\n",
       "      <td>neutral</td>\n",
       "    </tr>\n",
       "    <tr>\n",
       "      <th>1</th>\n",
       "      <td>549e992a42</td>\n",
       "      <td>Sooo SAD I will miss you here in San Diego!!!</td>\n",
       "      <td>Sooo SAD</td>\n",
       "      <td>negative</td>\n",
       "    </tr>\n",
       "    <tr>\n",
       "      <th>2</th>\n",
       "      <td>088c60f138</td>\n",
       "      <td>my boss is bullying me...</td>\n",
       "      <td>bullying me</td>\n",
       "      <td>negative</td>\n",
       "    </tr>\n",
       "    <tr>\n",
       "      <th>3</th>\n",
       "      <td>9642c003ef</td>\n",
       "      <td>what interview! leave me alone</td>\n",
       "      <td>leave me alone</td>\n",
       "      <td>negative</td>\n",
       "    </tr>\n",
       "    <tr>\n",
       "      <th>4</th>\n",
       "      <td>358bd9e861</td>\n",
       "      <td>Sons of ****, why couldn`t they put them on the releases we already bought</td>\n",
       "      <td>Sons of ****,</td>\n",
       "      <td>negative</td>\n",
       "    </tr>\n",
       "  </tbody>\n",
       "</table>\n",
       "</div>"
      ],
      "text/plain": [
       "       textID  \\\n",
       "0  cb774db0d1   \n",
       "1  549e992a42   \n",
       "2  088c60f138   \n",
       "3  9642c003ef   \n",
       "4  358bd9e861   \n",
       "\n",
       "                                                                          text  \\\n",
       "0                                          I`d have responded, if I were going   \n",
       "1                                Sooo SAD I will miss you here in San Diego!!!   \n",
       "2                                                    my boss is bullying me...   \n",
       "3                                               what interview! leave me alone   \n",
       "4   Sons of ****, why couldn`t they put them on the releases we already bought   \n",
       "\n",
       "                         selected_text sentiment  \n",
       "0  I`d have responded, if I were going   neutral  \n",
       "1                             Sooo SAD  negative  \n",
       "2                          bullying me  negative  \n",
       "3                       leave me alone  negative  \n",
       "4                        Sons of ****,  negative  "
      ]
     },
     "execution_count": 2,
     "metadata": {},
     "output_type": "execute_result"
    }
   ],
   "source": [
    "df.head()"
   ]
  },
  {
   "cell_type": "code",
   "execution_count": 3,
   "id": "afad5be4",
   "metadata": {
    "scrolled": true
   },
   "outputs": [
    {
     "name": "stdout",
     "output_type": "stream",
     "text": [
      "Missing Values in Each Column:\n",
      "textID           0\n",
      "text             1\n",
      "selected_text    1\n",
      "sentiment        0\n",
      "dtype: int64\n",
      "\n",
      "Total Missing Values in the DataFrame:\n",
      "2\n"
     ]
    }
   ],
   "source": [
    "import pandas as pd\n",
    "\n",
    "\n",
    "missing_values = df.isna() \n",
    "\n",
    "missing_count = missing_values.sum()\n",
    "\n",
    "total_missing_count = missing_count.sum()\n",
    "\n",
    "print(\"Missing Values in Each Column:\")\n",
    "print(missing_count)\n",
    "\n",
    "print(\"\\nTotal Missing Values in the DataFrame:\")\n",
    "print(total_missing_count)\n",
    "\n",
    "df['text'].fillna('', inplace=True)\n",
    "df['selected_text'].fillna('', inplace=True)\n",
    "\n"
   ]
  },
  {
   "cell_type": "code",
   "execution_count": 4,
   "id": "f387026d",
   "metadata": {},
   "outputs": [
    {
     "data": {
      "text/html": [
       "<style type=\"text/css\">\n",
       "#T_fa6f8_row0_col1 {\n",
       "  background-color: #3f007d;\n",
       "  color: #f1f1f1;\n",
       "}\n",
       "#T_fa6f8_row1_col1 {\n",
       "  background-color: #dcdcec;\n",
       "  color: #000000;\n",
       "}\n",
       "#T_fa6f8_row2_col1 {\n",
       "  background-color: #fcfbfd;\n",
       "  color: #000000;\n",
       "}\n",
       "</style>\n",
       "<table id=\"T_fa6f8\">\n",
       "  <thead>\n",
       "    <tr>\n",
       "      <th class=\"blank level0\" >&nbsp;</th>\n",
       "      <th id=\"T_fa6f8_level0_col0\" class=\"col_heading level0 col0\" >sentiment</th>\n",
       "      <th id=\"T_fa6f8_level0_col1\" class=\"col_heading level0 col1\" >text</th>\n",
       "    </tr>\n",
       "  </thead>\n",
       "  <tbody>\n",
       "    <tr>\n",
       "      <th id=\"T_fa6f8_level0_row0\" class=\"row_heading level0 row0\" >1</th>\n",
       "      <td id=\"T_fa6f8_row0_col0\" class=\"data row0 col0\" >neutral</td>\n",
       "      <td id=\"T_fa6f8_row0_col1\" class=\"data row0 col1\" >11118</td>\n",
       "    </tr>\n",
       "    <tr>\n",
       "      <th id=\"T_fa6f8_level0_row1\" class=\"row_heading level0 row1\" >2</th>\n",
       "      <td id=\"T_fa6f8_row1_col0\" class=\"data row1 col0\" >positive</td>\n",
       "      <td id=\"T_fa6f8_row1_col1\" class=\"data row1 col1\" >8582</td>\n",
       "    </tr>\n",
       "    <tr>\n",
       "      <th id=\"T_fa6f8_level0_row2\" class=\"row_heading level0 row2\" >0</th>\n",
       "      <td id=\"T_fa6f8_row2_col0\" class=\"data row2 col0\" >negative</td>\n",
       "      <td id=\"T_fa6f8_row2_col1\" class=\"data row2 col1\" >7781</td>\n",
       "    </tr>\n",
       "  </tbody>\n",
       "</table>\n"
      ],
      "text/plain": [
       "<pandas.io.formats.style.Styler at 0x1ef510025b0>"
      ]
     },
     "execution_count": 4,
     "metadata": {},
     "output_type": "execute_result"
    }
   ],
   "source": [
    "temp = df.groupby('sentiment').count()['text'].reset_index().sort_values(by='text',ascending=False)\n",
    "temp.style.background_gradient(cmap='Purples')"
   ]
  },
  {
   "cell_type": "code",
   "execution_count": 5,
   "id": "dff88cf2",
   "metadata": {},
   "outputs": [
    {
     "data": {
      "text/plain": [
       "<AxesSubplot:xlabel='sentiment', ylabel='count'>"
      ]
     },
     "execution_count": 5,
     "metadata": {},
     "output_type": "execute_result"
    },
    {
     "data": {
      "image/png": "[encoded data removed]",
      "text/plain": [
       "<Figure size 864x432 with 1 Axes>"
      ]
     },
     "metadata": {
      "needs_background": "light"
     },
     "output_type": "display_data"
    }
   ],
   "source": [
    "plt.figure(figsize=(12,6))\n",
    "sns.countplot(x='sentiment',data=df)"
   ]
  },
  {
   "cell_type": "code",
   "execution_count": 6,
   "id": "e647db12",
   "metadata": {},
   "outputs": [
    {
     "data": {
      "text/plain": [
       "(27481, 4)"
      ]
     },
     "execution_count": 6,
     "metadata": {},
     "output_type": "execute_result"
    }
   ],
   "source": [
    "df.shape"
   ]
  },
  {
   "cell_type": "code",
   "execution_count": 7,
   "id": "6e71c9a3",
   "metadata": {},
   "outputs": [],
   "source": [
    "import nltk\n",
    "import string\n",
    "from nltk.corpus import stopwords\n",
    "from nltk.stem import WordNetLemmatizer\n",
    "def clean_text(text):\n",
    "    # Tokenization\n",
    "    tokens = nltk.word_tokenize(text)\n",
    "\n",
    "    # Lowercasing\n",
    "    lowercased_text = text.lower()\n",
    "\n",
    "    # Removing punctuation\n",
    "    text_without_punctuation = \"\".join([char for char in text if char not in string.punctuation])\n",
    "\n",
    "    # Stopword removal\n",
    "    stop_words = set(stopwords.words('english'))\n",
    "    filtered_words = [word for word in tokens if word not in stop_words]\n",
    "\n",
    "    # Lemmatization\n",
    "    lemmatizer = WordNetLemmatizer()\n",
    "    lemmatized_text = [lemmatizer.lemmatize(word) for word in tokens]\n",
    "\n",
    "    return lemmatized_text  # You can return any cleaned version you prefer\n",
    "\n",
    "# Apply the cleaning function to the 'text_column'\n",
    "df['cleaned_text'] = df['text'].apply(clean_text)\n",
    "\n",
    "# Display the DataFrame with cleaned text\n",
    "#print(df)\n"
   ]
  },
  {
   "cell_type": "code",
   "execution_count": 8,
   "id": "1e217386",
   "metadata": {},
   "outputs": [
    {
     "data": {
      "application/vnd.jupyter.widget-view+json": {
       "model_id": "d4506c292376427b9baadaa2f51f92c6",
       "version_major": 2,
       "version_minor": 0
      },
      "text/plain": [
       "  0%|          | 0/27481 [00:00<?, ?it/s]"
      ]
     },
     "metadata": {},
     "output_type": "display_data"
    }
   ],
   "source": [
    "from nltk.sentiment import SentimentIntensityAnalyzer\n",
    "from tqdm.notebook import tqdm\n",
    "\n",
    "sia = SentimentIntensityAnalyzer()\n",
    "\n",
    "# Function to classify sentiment\n",
    "def classify_sentiment(text):\n",
    "    # Initialize sentiment scores\n",
    "    compound_score = 0\n",
    "\n",
    "    # Check for specific words and classify as 'negative' if found\n",
    "    negative_words = ['*']  # Add your list of negative words\n",
    "    for word in negative_words:\n",
    "        if word in text:\n",
    "            return 'negative'\n",
    "\n",
    "    # Calculate sentiment scores for each word and aggregate them\n",
    "    for word in text:\n",
    "        sentiment = sia.polarity_scores(word)\n",
    "        compound_score += sentiment['compound']\n",
    "\n",
    "    # Determine sentiment class based on the aggregate compound score\n",
    "    if compound_score >= 0.05:\n",
    "        return 'positive'\n",
    "    elif compound_score <= -0.05:\n",
    "        return 'negative'\n",
    "    else:\n",
    "        return 'neutral'\n",
    "\n",
    "# Apply the sentiment analysis function to the 'cleaned_data' column\n",
    "tqdm.pandas()  # Enable progress bar with tqdm\n",
    "df['sent'] = df['cleaned_text'].progress_apply(classify_sentiment)\n",
    "\n",
    "# Display the DataFrame with sentiment classification\n",
    "#print(df)\n",
    "\n",
    "\n"
   ]
  },
  {
   "cell_type": "code",
   "execution_count": 9,
   "id": "f6c0feb2",
   "metadata": {},
   "outputs": [
    {
     "data": {
      "text/html": [
       "<div>\n",
       "<style scoped>\n",
       "    .dataframe tbody tr th:only-of-type {\n",
       "        vertical-align: middle;\n",
       "    }\n",
       "\n",
       "    .dataframe tbody tr th {\n",
       "        vertical-align: top;\n",
       "    }\n",
       "\n",
       "    .dataframe thead th {\n",
       "        text-align: right;\n",
       "    }\n",
       "</style>\n",
       "<table border=\"1\" class=\"dataframe\">\n",
       "  <thead>\n",
       "    <tr style=\"text-align: right;\">\n",
       "      <th></th>\n",
       "      <th>textID</th>\n",
       "      <th>text</th>\n",
       "      <th>selected_text</th>\n",
       "      <th>sentiment</th>\n",
       "      <th>cleaned_text</th>\n",
       "      <th>sent</th>\n",
       "    </tr>\n",
       "  </thead>\n",
       "  <tbody>\n",
       "    <tr>\n",
       "      <th>0</th>\n",
       "      <td>cb774db0d1</td>\n",
       "      <td>I`d have responded, if I were going</td>\n",
       "      <td>I`d have responded, if I were going</td>\n",
       "      <td>neutral</td>\n",
       "      <td>[I, `, d, have, responded, ,, if, I, were, going]</td>\n",
       "      <td>neutral</td>\n",
       "    </tr>\n",
       "    <tr>\n",
       "      <th>1</th>\n",
       "      <td>549e992a42</td>\n",
       "      <td>Sooo SAD I will miss you here in San Diego!!!</td>\n",
       "      <td>Sooo SAD</td>\n",
       "      <td>negative</td>\n",
       "      <td>[Sooo, SAD, I, will, miss, you, here, in, San, Diego, !, !, !]</td>\n",
       "      <td>negative</td>\n",
       "    </tr>\n",
       "    <tr>\n",
       "      <th>2</th>\n",
       "      <td>088c60f138</td>\n",
       "      <td>my boss is bullying me...</td>\n",
       "      <td>bullying me</td>\n",
       "      <td>negative</td>\n",
       "      <td>[my, bos, is, bullying, me, ...]</td>\n",
       "      <td>negative</td>\n",
       "    </tr>\n",
       "    <tr>\n",
       "      <th>3</th>\n",
       "      <td>9642c003ef</td>\n",
       "      <td>what interview! leave me alone</td>\n",
       "      <td>leave me alone</td>\n",
       "      <td>negative</td>\n",
       "      <td>[what, interview, !, leave, me, alone]</td>\n",
       "      <td>negative</td>\n",
       "    </tr>\n",
       "    <tr>\n",
       "      <th>4</th>\n",
       "      <td>358bd9e861</td>\n",
       "      <td>Sons of ****, why couldn`t they put them on the releases we already bought</td>\n",
       "      <td>Sons of ****,</td>\n",
       "      <td>negative</td>\n",
       "      <td>[Sons, of, *, *, *, *, ,, why, couldn, `, t, they, put, them, on, the, release, we, already, bought]</td>\n",
       "      <td>negative</td>\n",
       "    </tr>\n",
       "  </tbody>\n",
       "</table>\n",
       "</div>"
      ],
      "text/plain": [
       "       textID  \\\n",
       "0  cb774db0d1   \n",
       "1  549e992a42   \n",
       "2  088c60f138   \n",
       "3  9642c003ef   \n",
       "4  358bd9e861   \n",
       "\n",
       "                                                                          text  \\\n",
       "0                                          I`d have responded, if I were going   \n",
       "1                                Sooo SAD I will miss you here in San Diego!!!   \n",
       "2                                                    my boss is bullying me...   \n",
       "3                                               what interview! leave me alone   \n",
       "4   Sons of ****, why couldn`t they put them on the releases we already bought   \n",
       "\n",
       "                         selected_text sentiment  \\\n",
       "0  I`d have responded, if I were going   neutral   \n",
       "1                             Sooo SAD  negative   \n",
       "2                          bullying me  negative   \n",
       "3                       leave me alone  negative   \n",
       "4                        Sons of ****,  negative   \n",
       "\n",
       "                                                                                           cleaned_text  \\\n",
       "0                                                     [I, `, d, have, responded, ,, if, I, were, going]   \n",
       "1                                        [Sooo, SAD, I, will, miss, you, here, in, San, Diego, !, !, !]   \n",
       "2                                                                      [my, bos, is, bullying, me, ...]   \n",
       "3                                                                [what, interview, !, leave, me, alone]   \n",
       "4  [Sons, of, *, *, *, *, ,, why, couldn, `, t, they, put, them, on, the, release, we, already, bought]   \n",
       "\n",
       "       sent  \n",
       "0   neutral  \n",
       "1  negative  \n",
       "2  negative  \n",
       "3  negative  \n",
       "4  negative  "
      ]
     },
     "execution_count": 9,
     "metadata": {},
     "output_type": "execute_result"
    }
   ],
   "source": [
    "df.head()"
   ]
  },
  {
   "cell_type": "code",
   "execution_count": 10,
   "id": "cbce5d6b",
   "metadata": {},
   "outputs": [
    {
     "name": "stdout",
     "output_type": "stream",
     "text": [
      "Accuracy using VADER Seniment Scoring: 0.6187547760270733\n"
     ]
    }
   ],
   "source": [
    "# Assuming you have a DataFrame df with 'sentiment' and 'sent' columns\n",
    "\n",
    "# Count the matching rows using pandas\n",
    "matching_rows = df[df['sentiment'] == df['sent']]\n",
    "count = len(matching_rows)\n",
    "\n",
    "print(\"Accuracy using VADER Seniment Scoring:\",count/df.shape[0])\n"
   ]
  },
  {
   "cell_type": "code",
   "execution_count": 11,
   "id": "45ae1a49",
   "metadata": {},
   "outputs": [
    {
     "name": "stdout",
     "output_type": "stream",
     "text": [
      "accuracy rows with sentiment 'neutral': 0.44702284583558194\n",
      "accuracy rows with sentiment 'positive': 0.8465392682358425\n",
      "accuracy rows with sentiment 'negative': 0.6129032258064516\n"
     ]
    }
   ],
   "source": [
    "matching_neutral_rows = df[(df['sentiment'] == 'neutral') & (df['sent'] == 'neutral')]\n",
    "count_matching_neutral = len(matching_neutral_rows)\n",
    "neutral = df[df['sentiment'] == 'neutral']\n",
    "n_neutral=len(neutral)\n",
    "print(\"accuracy rows with sentiment 'neutral':\", count_matching_neutral/n_neutral)\n",
    "matching_positive_rows = df[(df['sentiment'] == 'positive') & (df['sent'] == 'positive')]\n",
    "count_matching_positive = len(matching_positive_rows)\n",
    "positive = df[df['sentiment'] == 'positive']\n",
    "n_positive=len(positive)\n",
    "print(\"accuracy rows with sentiment 'positive':\", count_matching_positive/n_positive)\n",
    "matching_negative_rows = df[(df['sentiment'] == 'negative') & (df['sent'] == 'negative')]\n",
    "count_matching_negative = len(matching_negative_rows)\n",
    "negative = df[df['sentiment'] == 'negative']\n",
    "n_negative=len(negative)\n",
    "print(\"accuracy rows with sentiment 'negative':\", count_matching_negative/n_negative)"
   ]
  },
  {
   "cell_type": "code",
   "execution_count": 22,
   "id": "c7498acf",
   "metadata": {},
   "outputs": [
    {
     "data": {
      "application/vnd.jupyter.widget-view+json": {
       "model_id": "46446b33a65447309a01f10d222d5eca",
       "version_major": 2,
       "version_minor": 0
      },
      "text/plain": [
       "  0%|          | 0/27481 [00:00<?, ?it/s]"
      ]
     },
     "metadata": {},
     "output_type": "display_data"
    }
   ],
   "source": [
    "from nltk.sentiment import SentimentIntensityAnalyzer\n",
    "from tqdm.notebook import tqdm\n",
    "\n",
    "sia = SentimentIntensityAnalyzer()\n",
    "\n",
    "# Function to classify sentiment based on the highest sentiment score\n",
    "def classify_sentiment(word_list):\n",
    "    text = ' '.join(word_list)  # Convert the list of words to a single string\n",
    "    sentiment_scores = sia.polarity_scores(text)\n",
    "\n",
    "    # Check for specific words and classify as 'negative' if found\n",
    "    negative_words = ['*']  # Add your list of negative words\n",
    "    for word in negative_words:\n",
    "        if word in text:\n",
    "            return 'negative'\n",
    "\n",
    "    # Determine the sentiment class based on the compound score\n",
    "    if sentiment_scores['compound'] >= 0.05:\n",
    "        return 'positive'\n",
    "    elif sentiment_scores['compound'] <= -0.05:\n",
    "        return 'negative'\n",
    "    else:\n",
    "        return 'neutral'\n",
    "\n",
    "# Apply the sentiment analysis function to the 'cleaned_data' column\n",
    "tqdm.pandas()  # Enable progress bar with tqdm\n",
    "df['sent'] = df['cleaned_text'].progress_apply(classify_sentiment)\n",
    "\n",
    "# Display the DataFrame with sentiment classification\n",
    "#print(df)\n",
    "\n",
    "\n",
    "\n",
    "\n"
   ]
  },
  {
   "cell_type": "code",
   "execution_count": 23,
   "id": "f29b1385",
   "metadata": {},
   "outputs": [
    {
     "data": {
      "text/html": [
       "<div>\n",
       "<style scoped>\n",
       "    .dataframe tbody tr th:only-of-type {\n",
       "        vertical-align: middle;\n",
       "    }\n",
       "\n",
       "    .dataframe tbody tr th {\n",
       "        vertical-align: top;\n",
       "    }\n",
       "\n",
       "    .dataframe thead th {\n",
       "        text-align: right;\n",
       "    }\n",
       "</style>\n",
       "<table border=\"1\" class=\"dataframe\">\n",
       "  <thead>\n",
       "    <tr style=\"text-align: right;\">\n",
       "      <th></th>\n",
       "      <th>textID</th>\n",
       "      <th>text</th>\n",
       "      <th>selected_text</th>\n",
       "      <th>sentiment</th>\n",
       "      <th>cleaned_text</th>\n",
       "      <th>sent</th>\n",
       "    </tr>\n",
       "  </thead>\n",
       "  <tbody>\n",
       "    <tr>\n",
       "      <th>0</th>\n",
       "      <td>cb774db0d1</td>\n",
       "      <td>I`d have responded, if I were going</td>\n",
       "      <td>I`d have responded, if I were going</td>\n",
       "      <td>neutral</td>\n",
       "      <td>[I, `, d, have, responded, ,, if, I, were, going]</td>\n",
       "      <td>neutral</td>\n",
       "    </tr>\n",
       "    <tr>\n",
       "      <th>1</th>\n",
       "      <td>549e992a42</td>\n",
       "      <td>Sooo SAD I will miss you here in San Diego!!!</td>\n",
       "      <td>Sooo SAD</td>\n",
       "      <td>negative</td>\n",
       "      <td>[Sooo, SAD, I, will, miss, you, here, in, San, Diego, !, !, !]</td>\n",
       "      <td>negative</td>\n",
       "    </tr>\n",
       "    <tr>\n",
       "      <th>2</th>\n",
       "      <td>088c60f138</td>\n",
       "      <td>my boss is bullying me...</td>\n",
       "      <td>bullying me</td>\n",
       "      <td>negative</td>\n",
       "      <td>[my, bos, is, bullying, me, ...]</td>\n",
       "      <td>negative</td>\n",
       "    </tr>\n",
       "    <tr>\n",
       "      <th>3</th>\n",
       "      <td>9642c003ef</td>\n",
       "      <td>what interview! leave me alone</td>\n",
       "      <td>leave me alone</td>\n",
       "      <td>negative</td>\n",
       "      <td>[what, interview, !, leave, me, alone]</td>\n",
       "      <td>negative</td>\n",
       "    </tr>\n",
       "    <tr>\n",
       "      <th>4</th>\n",
       "      <td>358bd9e861</td>\n",
       "      <td>Sons of ****, why couldn`t they put them on the releases we already bought</td>\n",
       "      <td>Sons of ****,</td>\n",
       "      <td>negative</td>\n",
       "      <td>[Sons, of, *, *, *, *, ,, why, couldn, `, t, they, put, them, on, the, release, we, already, bought]</td>\n",
       "      <td>negative</td>\n",
       "    </tr>\n",
       "  </tbody>\n",
       "</table>\n",
       "</div>"
      ],
      "text/plain": [
       "       textID  \\\n",
       "0  cb774db0d1   \n",
       "1  549e992a42   \n",
       "2  088c60f138   \n",
       "3  9642c003ef   \n",
       "4  358bd9e861   \n",
       "\n",
       "                                                                          text  \\\n",
       "0                                          I`d have responded, if I were going   \n",
       "1                                Sooo SAD I will miss you here in San Diego!!!   \n",
       "2                                                    my boss is bullying me...   \n",
       "3                                               what interview! leave me alone   \n",
       "4   Sons of ****, why couldn`t they put them on the releases we already bought   \n",
       "\n",
       "                         selected_text sentiment  \\\n",
       "0  I`d have responded, if I were going   neutral   \n",
       "1                             Sooo SAD  negative   \n",
       "2                          bullying me  negative   \n",
       "3                       leave me alone  negative   \n",
       "4                        Sons of ****,  negative   \n",
       "\n",
       "                                                                                           cleaned_text  \\\n",
       "0                                                     [I, `, d, have, responded, ,, if, I, were, going]   \n",
       "1                                        [Sooo, SAD, I, will, miss, you, here, in, San, Diego, !, !, !]   \n",
       "2                                                                      [my, bos, is, bullying, me, ...]   \n",
       "3                                                                [what, interview, !, leave, me, alone]   \n",
       "4  [Sons, of, *, *, *, *, ,, why, couldn, `, t, they, put, them, on, the, release, we, already, bought]   \n",
       "\n",
       "       sent  \n",
       "0   neutral  \n",
       "1  negative  \n",
       "2  negative  \n",
       "3  negative  \n",
       "4  negative  "
      ]
     },
     "execution_count": 23,
     "metadata": {},
     "output_type": "execute_result"
    }
   ],
   "source": [
    "df.head()"
   ]
  },
  {
   "cell_type": "code",
   "execution_count": 24,
   "id": "cc5a12d2",
   "metadata": {},
   "outputs": [
    {
     "name": "stdout",
     "output_type": "stream",
     "text": [
      "Accuracy using updated VADER Seniment Scoring: 0.62661475201048\n"
     ]
    }
   ],
   "source": [
    "# Assuming you have a DataFrame df with 'sentiment' and 'sent' columns\n",
    "\n",
    "# Count the matching rows using pandas\n",
    "matching_rows = df[df['sentiment'] == df['sent']]\n",
    "count = len(matching_rows)\n",
    "\n",
    "print(\"Accuracy using updated VADER Seniment Scoring:\",count/df.shape[0])\n"
   ]
  },
  {
   "cell_type": "code",
   "execution_count": 25,
   "id": "922df361",
   "metadata": {},
   "outputs": [
    {
     "name": "stdout",
     "output_type": "stream",
     "text": [
      "accuracy rows with sentiment 'neutral': 0.43883792048929665\n",
      "accuracy rows with sentiment 'positive': 0.8506175716616173\n",
      "accuracy rows with sentiment 'negative': 0.6478601722143683\n"
     ]
    }
   ],
   "source": [
    "matching_neutral_rows = df[(df['sentiment'] == 'neutral') & (df['sent'] == 'neutral')]\n",
    "count_matching_neutral = len(matching_neutral_rows)\n",
    "neutral = df[df['sentiment'] == 'neutral']\n",
    "n_neutral=len(neutral)\n",
    "print(\"accuracy rows with sentiment 'neutral':\", count_matching_neutral/n_neutral)\n",
    "matching_positive_rows = df[(df['sentiment'] == 'positive') & (df['sent'] == 'positive')]\n",
    "count_matching_positive = len(matching_positive_rows)\n",
    "positive = df[df['sentiment'] == 'positive']\n",
    "n_positive=len(positive)\n",
    "print(\"accuracy rows with sentiment 'positive':\", count_matching_positive/n_positive)\n",
    "matching_negative_rows = df[(df['sentiment'] == 'negative') & (df['sent'] == 'negative')]\n",
    "count_matching_negative = len(matching_negative_rows)\n",
    "negative = df[df['sentiment'] == 'negative']\n",
    "n_negative=len(negative)\n",
    "print(\"accuracy rows with sentiment 'negative':\", count_matching_negative/n_negative)"
   ]
  },
  {
   "cell_type": "code",
   "execution_count": 31,
   "id": "fd8a624d",
   "metadata": {},
   "outputs": [
    {
     "name": "stderr",
     "output_type": "stream",
     "text": [
      "Some weights of DistilBertForSequenceClassification were not initialized from the model checkpoint at distilbert-base-uncased and are newly initialized: ['pre_classifier.weight', 'classifier.weight', 'classifier.bias', 'pre_classifier.bias']\n",
      "You should probably TRAIN this model on a down-stream task to be able to use it for predictions and inference.\n"
     ]
    },
    {
     "ename": "AxisError",
     "evalue": "axis 1 is out of bounds for array of dimension 1",
     "output_type": "error",
     "traceback": [
      "\u001b[1;31m---------------------------------------------------------------------------\u001b[0m",
      "\u001b[1;31mAxisError\u001b[0m                                 Traceback (most recent call last)",
      "Input \u001b[1;32mIn [31]\u001b[0m, in \u001b[0;36m<cell line: 30>\u001b[1;34m()\u001b[0m\n\u001b[0;32m     27\u001b[0m     \u001b[38;5;28;01mreturn\u001b[39;00m sentiments\n\u001b[0;32m     29\u001b[0m \u001b[38;5;66;03m# Apply the sentiment analysis function to the 'cleaned_text' column\u001b[39;00m\n\u001b[1;32m---> 30\u001b[0m sentiments \u001b[38;5;241m=\u001b[39m \u001b[43mclassify_sentiment\u001b[49m\u001b[43m(\u001b[49m\u001b[43mdf\u001b[49m\u001b[43m[\u001b[49m\u001b[38;5;124;43m'\u001b[39;49m\u001b[38;5;124;43mcleaned_text\u001b[39;49m\u001b[38;5;124;43m'\u001b[39;49m\u001b[43m]\u001b[49m\u001b[43m)\u001b[49m\n\u001b[0;32m     32\u001b[0m \u001b[38;5;66;03m# Map the sentiment indices to the categories\u001b[39;00m\n\u001b[0;32m     33\u001b[0m sentiment_map \u001b[38;5;241m=\u001b[39m {\u001b[38;5;241m0\u001b[39m: \u001b[38;5;124m'\u001b[39m\u001b[38;5;124mnegative\u001b[39m\u001b[38;5;124m'\u001b[39m, \u001b[38;5;241m1\u001b[39m: \u001b[38;5;124m'\u001b[39m\u001b[38;5;124mneutral\u001b[39m\u001b[38;5;124m'\u001b[39m, \u001b[38;5;241m2\u001b[39m: \u001b[38;5;124m'\u001b[39m\u001b[38;5;124mpositive\u001b[39m\u001b[38;5;124m'\u001b[39m}\n",
      "Input \u001b[1;32mIn [31]\u001b[0m, in \u001b[0;36mclassify_sentiment\u001b[1;34m(texts)\u001b[0m\n\u001b[0;32m     22\u001b[0m probs \u001b[38;5;241m=\u001b[39m softmax(logits\u001b[38;5;241m.\u001b[39mdetach()\u001b[38;5;241m.\u001b[39mnumpy(), axis\u001b[38;5;241m=\u001b[39m\u001b[38;5;241m1\u001b[39m)\n\u001b[0;32m     24\u001b[0m \u001b[38;5;66;03m# Determine the sentiment class based on the highest probability\u001b[39;00m\n\u001b[1;32m---> 25\u001b[0m sentiments \u001b[38;5;241m=\u001b[39m [np\u001b[38;5;241m.\u001b[39margmax(probs, axis\u001b[38;5;241m=\u001b[39m\u001b[38;5;241m1\u001b[39m) \u001b[38;5;28;01mfor\u001b[39;00m probs \u001b[38;5;129;01min\u001b[39;00m probs]\n\u001b[0;32m     27\u001b[0m \u001b[38;5;28;01mreturn\u001b[39;00m sentiments\n",
      "Input \u001b[1;32mIn [31]\u001b[0m, in \u001b[0;36m<listcomp>\u001b[1;34m(.0)\u001b[0m\n\u001b[0;32m     22\u001b[0m probs \u001b[38;5;241m=\u001b[39m softmax(logits\u001b[38;5;241m.\u001b[39mdetach()\u001b[38;5;241m.\u001b[39mnumpy(), axis\u001b[38;5;241m=\u001b[39m\u001b[38;5;241m1\u001b[39m)\n\u001b[0;32m     24\u001b[0m \u001b[38;5;66;03m# Determine the sentiment class based on the highest probability\u001b[39;00m\n\u001b[1;32m---> 25\u001b[0m sentiments \u001b[38;5;241m=\u001b[39m [\u001b[43mnp\u001b[49m\u001b[38;5;241;43m.\u001b[39;49m\u001b[43margmax\u001b[49m\u001b[43m(\u001b[49m\u001b[43mprobs\u001b[49m\u001b[43m,\u001b[49m\u001b[43m \u001b[49m\u001b[43maxis\u001b[49m\u001b[38;5;241;43m=\u001b[39;49m\u001b[38;5;241;43m1\u001b[39;49m\u001b[43m)\u001b[49m \u001b[38;5;28;01mfor\u001b[39;00m probs \u001b[38;5;129;01min\u001b[39;00m probs]\n\u001b[0;32m     27\u001b[0m \u001b[38;5;28;01mreturn\u001b[39;00m sentiments\n",
      "File \u001b[1;32m<__array_function__ internals>:5\u001b[0m, in \u001b[0;36margmax\u001b[1;34m(*args, **kwargs)\u001b[0m\n",
      "File \u001b[1;32mD:\\ML\\lib\\site-packages\\numpy\\core\\fromnumeric.py:1195\u001b[0m, in \u001b[0;36margmax\u001b[1;34m(a, axis, out)\u001b[0m\n\u001b[0;32m   1121\u001b[0m \u001b[38;5;129m@array_function_dispatch\u001b[39m(_argmax_dispatcher)\n\u001b[0;32m   1122\u001b[0m \u001b[38;5;28;01mdef\u001b[39;00m \u001b[38;5;21margmax\u001b[39m(a, axis\u001b[38;5;241m=\u001b[39m\u001b[38;5;28;01mNone\u001b[39;00m, out\u001b[38;5;241m=\u001b[39m\u001b[38;5;28;01mNone\u001b[39;00m):\n\u001b[0;32m   1123\u001b[0m     \u001b[38;5;124;03m\"\"\"\u001b[39;00m\n\u001b[0;32m   1124\u001b[0m \u001b[38;5;124;03m    Returns the indices of the maximum values along an axis.\u001b[39;00m\n\u001b[0;32m   1125\u001b[0m \n\u001b[1;32m   (...)\u001b[0m\n\u001b[0;32m   1193\u001b[0m \n\u001b[0;32m   1194\u001b[0m \u001b[38;5;124;03m    \"\"\"\u001b[39;00m\n\u001b[1;32m-> 1195\u001b[0m     \u001b[38;5;28;01mreturn\u001b[39;00m \u001b[43m_wrapfunc\u001b[49m\u001b[43m(\u001b[49m\u001b[43ma\u001b[49m\u001b[43m,\u001b[49m\u001b[43m \u001b[49m\u001b[38;5;124;43m'\u001b[39;49m\u001b[38;5;124;43margmax\u001b[39;49m\u001b[38;5;124;43m'\u001b[39;49m\u001b[43m,\u001b[49m\u001b[43m \u001b[49m\u001b[43maxis\u001b[49m\u001b[38;5;241;43m=\u001b[39;49m\u001b[43maxis\u001b[49m\u001b[43m,\u001b[49m\u001b[43m \u001b[49m\u001b[43mout\u001b[49m\u001b[38;5;241;43m=\u001b[39;49m\u001b[43mout\u001b[49m\u001b[43m)\u001b[49m\n",
      "File \u001b[1;32mD:\\ML\\lib\\site-packages\\numpy\\core\\fromnumeric.py:57\u001b[0m, in \u001b[0;36m_wrapfunc\u001b[1;34m(obj, method, *args, **kwds)\u001b[0m\n\u001b[0;32m     54\u001b[0m     \u001b[38;5;28;01mreturn\u001b[39;00m _wrapit(obj, method, \u001b[38;5;241m*\u001b[39margs, \u001b[38;5;241m*\u001b[39m\u001b[38;5;241m*\u001b[39mkwds)\n\u001b[0;32m     56\u001b[0m \u001b[38;5;28;01mtry\u001b[39;00m:\n\u001b[1;32m---> 57\u001b[0m     \u001b[38;5;28;01mreturn\u001b[39;00m bound(\u001b[38;5;241m*\u001b[39margs, \u001b[38;5;241m*\u001b[39m\u001b[38;5;241m*\u001b[39mkwds)\n\u001b[0;32m     58\u001b[0m \u001b[38;5;28;01mexcept\u001b[39;00m \u001b[38;5;167;01mTypeError\u001b[39;00m:\n\u001b[0;32m     59\u001b[0m     \u001b[38;5;66;03m# A TypeError occurs if the object does have such a method in its\u001b[39;00m\n\u001b[0;32m     60\u001b[0m     \u001b[38;5;66;03m# class, but its signature is not identical to that of NumPy's. This\u001b[39;00m\n\u001b[1;32m   (...)\u001b[0m\n\u001b[0;32m     64\u001b[0m     \u001b[38;5;66;03m# Call _wrapit from within the except clause to ensure a potential\u001b[39;00m\n\u001b[0;32m     65\u001b[0m     \u001b[38;5;66;03m# exception has a traceback chain.\u001b[39;00m\n\u001b[0;32m     66\u001b[0m     \u001b[38;5;28;01mreturn\u001b[39;00m _wrapit(obj, method, \u001b[38;5;241m*\u001b[39margs, \u001b[38;5;241m*\u001b[39m\u001b[38;5;241m*\u001b[39mkwds)\n",
      "\u001b[1;31mAxisError\u001b[0m: axis 1 is out of bounds for array of dimension 1"
     ]
    }
   ],
   "source": [
    "from transformers import AutoTokenizer, AutoModelForSequenceClassification\n",
    "from scipy.special import softmax\n",
    "import pandas as pd\n",
    "import torch\n",
    "import numpy as np\n",
    "\n",
    "# Define the DistilBERT-based model\n",
    "MODEL = \"distilbert-base-uncased\"\n",
    "\n",
    "# Load the DistilBERT tokenizer\n",
    "tokenizer = AutoTokenizer.from_pretrained(MODEL)\n",
    "\n",
    "# Load the DistilBERT model for sequence classification\n",
    "model = AutoModelForSequenceClassification.from_pretrained(MODEL)\n",
    "\n",
    "# Function to classify sentiment using DistilBERT\n",
    "def classify_sentiment(texts):\n",
    "    text_strings = [' '.join(text) for text in texts]  # Convert the list of words to a list of single strings\n",
    "    inputs = tokenizer(text_strings, padding=True, truncation=True, max_length=128, return_tensors='pt', is_split_into_words=True)\n",
    "    outputs = model(**inputs)\n",
    "    logits = outputs.logits\n",
    "    probs = softmax(logits.detach().numpy(), axis=1)\n",
    "    \n",
    "    # Determine the sentiment class based on the highest probability\n",
    "    sentiments = [np.argmax(probs, axis=1) for probs in probs]\n",
    "\n",
    "    return sentiments\n",
    "\n",
    "# Apply the sentiment analysis function to the 'cleaned_text' column\n",
    "sentiments = classify_sentiment(df['cleaned_text'])\n",
    "\n",
    "# Map the sentiment indices to the categories\n",
    "sentiment_map = {0: 'negative', 1: 'neutral', 2: 'positive'}\n",
    "sentiments = [sentiment_map[sentiment[0]] for sentiment in sentiments]\n",
    "\n",
    "# Ensure that the number of sentiments matches the number of rows in df\n",
    "if len(sentiments) != len(df):\n",
    "    print(f\"Warning: Length of sentiments ({len(sentiments)}) does not match length of the DataFrame ({len(df)}).\")\n",
    "\n",
    "# Assign sentiments to the DataFrame\n",
    "df['sent'] = sentiments\n",
    "\n",
    "# Display the DataFrame with sentiment classification\n",
    "#print(df)\n",
    "\n"
   ]
  },
  {
   "cell_type": "code",
   "execution_count": 19,
   "id": "d55d807f",
   "metadata": {},
   "outputs": [
    {
     "data": {
      "text/html": [
       "<div>\n",
       "<style scoped>\n",
       "    .dataframe tbody tr th:only-of-type {\n",
       "        vertical-align: middle;\n",
       "    }\n",
       "\n",
       "    .dataframe tbody tr th {\n",
       "        vertical-align: top;\n",
       "    }\n",
       "\n",
       "    .dataframe thead th {\n",
       "        text-align: right;\n",
       "    }\n",
       "</style>\n",
       "<table border=\"1\" class=\"dataframe\">\n",
       "  <thead>\n",
       "    <tr style=\"text-align: right;\">\n",
       "      <th></th>\n",
       "      <th>textID</th>\n",
       "      <th>text</th>\n",
       "      <th>selected_text</th>\n",
       "      <th>sentiment</th>\n",
       "      <th>cleaned_text</th>\n",
       "      <th>sent</th>\n",
       "    </tr>\n",
       "  </thead>\n",
       "  <tbody>\n",
       "    <tr>\n",
       "      <th>0</th>\n",
       "      <td>cb774db0d1</td>\n",
       "      <td>I`d have responded, if I were going</td>\n",
       "      <td>I`d have responded, if I were going</td>\n",
       "      <td>neutral</td>\n",
       "      <td>[I, `, d, have, responded, ,, if, I, were, going]</td>\n",
       "      <td>neutral</td>\n",
       "    </tr>\n",
       "    <tr>\n",
       "      <th>1</th>\n",
       "      <td>549e992a42</td>\n",
       "      <td>Sooo SAD I will miss you here in San Diego!!!</td>\n",
       "      <td>Sooo SAD</td>\n",
       "      <td>negative</td>\n",
       "      <td>[Sooo, SAD, I, will, miss, you, here, in, San, Diego, !, !, !]</td>\n",
       "      <td>negative</td>\n",
       "    </tr>\n",
       "    <tr>\n",
       "      <th>2</th>\n",
       "      <td>088c60f138</td>\n",
       "      <td>my boss is bullying me...</td>\n",
       "      <td>bullying me</td>\n",
       "      <td>negative</td>\n",
       "      <td>[my, bos, is, bullying, me, ...]</td>\n",
       "      <td>negative</td>\n",
       "    </tr>\n",
       "    <tr>\n",
       "      <th>3</th>\n",
       "      <td>9642c003ef</td>\n",
       "      <td>what interview! leave me alone</td>\n",
       "      <td>leave me alone</td>\n",
       "      <td>negative</td>\n",
       "      <td>[what, interview, !, leave, me, alone]</td>\n",
       "      <td>negative</td>\n",
       "    </tr>\n",
       "    <tr>\n",
       "      <th>4</th>\n",
       "      <td>358bd9e861</td>\n",
       "      <td>Sons of ****, why couldn`t they put them on the releases we already bought</td>\n",
       "      <td>Sons of ****,</td>\n",
       "      <td>negative</td>\n",
       "      <td>[Sons, of, *, *, *, *, ,, why, couldn, `, t, they, put, them, on, the, release, we, already, bought]</td>\n",
       "      <td>neutral</td>\n",
       "    </tr>\n",
       "  </tbody>\n",
       "</table>\n",
       "</div>"
      ],
      "text/plain": [
       "       textID  \\\n",
       "0  cb774db0d1   \n",
       "1  549e992a42   \n",
       "2  088c60f138   \n",
       "3  9642c003ef   \n",
       "4  358bd9e861   \n",
       "\n",
       "                                                                          text  \\\n",
       "0                                          I`d have responded, if I were going   \n",
       "1                                Sooo SAD I will miss you here in San Diego!!!   \n",
       "2                                                    my boss is bullying me...   \n",
       "3                                               what interview! leave me alone   \n",
       "4   Sons of ****, why couldn`t they put them on the releases we already bought   \n",
       "\n",
       "                         selected_text sentiment  \\\n",
       "0  I`d have responded, if I were going   neutral   \n",
       "1                             Sooo SAD  negative   \n",
       "2                          bullying me  negative   \n",
       "3                       leave me alone  negative   \n",
       "4                        Sons of ****,  negative   \n",
       "\n",
       "                                                                                           cleaned_text  \\\n",
       "0                                                     [I, `, d, have, responded, ,, if, I, were, going]   \n",
       "1                                        [Sooo, SAD, I, will, miss, you, here, in, San, Diego, !, !, !]   \n",
       "2                                                                      [my, bos, is, bullying, me, ...]   \n",
       "3                                                                [what, interview, !, leave, me, alone]   \n",
       "4  [Sons, of, *, *, *, *, ,, why, couldn, `, t, they, put, them, on, the, release, we, already, bought]   \n",
       "\n",
       "       sent  \n",
       "0   neutral  \n",
       "1  negative  \n",
       "2  negative  \n",
       "3  negative  \n",
       "4   neutral  "
      ]
     },
     "execution_count": 19,
     "metadata": {},
     "output_type": "execute_result"
    }
   ],
   "source": [
    "df.head()"
   ]
  },
  {
   "cell_type": "code",
   "execution_count": null,
   "id": "ed3cb080",
   "metadata": {},
   "outputs": [],
   "source": []
  }
 ],
 "metadata": {
  "kernelspec": {
   "display_name": "Python 3 (ipykernel)",
   "language": "python",
   "name": "python3"
  },
  "language_info": {
   "codemirror_mode": {
    "name": "ipython",
    "version": 3
   },
   "file_extension": ".py",
   "mimetype": "text/x-python",
   "name": "python",
   "nbconvert_exporter": "python",
   "pygments_lexer": "ipython3",
   "version": "3.9.12"
  }
 },
 "nbformat": 4,
 "nbformat_minor": 5
}
